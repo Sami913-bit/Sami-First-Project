{
 "cells": [
  {
   "cell_type": "code",
   "execution_count": 36,
   "id": "25ccc786",
   "metadata": {},
   "outputs": [
    {
     "data": {
      "text/html": [
       "<div>\n",
       "<style scoped>\n",
       "    .dataframe tbody tr th:only-of-type {\n",
       "        vertical-align: middle;\n",
       "    }\n",
       "\n",
       "    .dataframe tbody tr th {\n",
       "        vertical-align: top;\n",
       "    }\n",
       "\n",
       "    .dataframe thead th {\n",
       "        text-align: right;\n",
       "    }\n",
       "</style>\n",
       "<table border=\"1\" class=\"dataframe\">\n",
       "  <thead>\n",
       "    <tr style=\"text-align: right;\">\n",
       "      <th></th>\n",
       "      <th>Date</th>\n",
       "      <th>Time</th>\n",
       "      <th>Speed</th>\n",
       "      <th>Distance</th>\n",
       "      <th>Description</th>\n",
       "    </tr>\n",
       "  </thead>\n",
       "  <tbody>\n",
       "    <tr>\n",
       "      <th>0</th>\n",
       "      <td>2020/11/23</td>\n",
       "      <td>4:45 AM</td>\n",
       "      <td>2.0</td>\n",
       "      <td>5.00</td>\n",
       "      <td>GeeksforGeeks123</td>\n",
       "    </tr>\n",
       "    <tr>\n",
       "      <th>1</th>\n",
       "      <td>2020/11/24</td>\n",
       "      <td>5:45 PM</td>\n",
       "      <td>3.9</td>\n",
       "      <td>6.12</td>\n",
       "      <td>ShashingtonDC54</td>\n",
       "    </tr>\n",
       "    <tr>\n",
       "      <th>2</th>\n",
       "      <td>2020/11/25</td>\n",
       "      <td>6:45 AM</td>\n",
       "      <td>4.1</td>\n",
       "      <td>7.21</td>\n",
       "      <td>PolandforPoland12522</td>\n",
       "    </tr>\n",
       "    <tr>\n",
       "      <th>3</th>\n",
       "      <td>2020/11/26</td>\n",
       "      <td>7:45 PM</td>\n",
       "      <td>5.2</td>\n",
       "      <td>8.78</td>\n",
       "      <td>GeeksforGeeks126</td>\n",
       "    </tr>\n",
       "  </tbody>\n",
       "</table>\n",
       "</div>"
      ],
      "text/plain": [
       "        Date      Time  Speed  Distance           Description\n",
       "0  2020/11/23  4:45 AM    2.0      5.00      GeeksforGeeks123\n",
       "1  2020/11/24  5:45 PM    3.9      6.12       ShashingtonDC54\n",
       "2  2020/11/25  6:45 AM    4.1      7.21  PolandforPoland12522\n",
       "3  2020/11/26  7:45 PM    5.2      8.78      GeeksforGeeks126"
      ]
     },
     "execution_count": 36,
     "metadata": {},
     "output_type": "execute_result"
    }
   ],
   "source": [
    "import pandas \n",
    "data = pandas.read_csv(\"D://Simple Data1.csv\")\n",
    "data.head()"
   ]
  },
  {
   "cell_type": "code",
   "execution_count": 37,
   "id": "e03362cd",
   "metadata": {},
   "outputs": [
    {
     "data": {
      "text/plain": [
       "0    2020/11/23\n",
       "1    2020/11/24\n",
       "2    2020/11/25\n",
       "3    2020/11/26\n",
       "Name: Date , dtype: object"
      ]
     },
     "execution_count": 37,
     "metadata": {},
     "output_type": "execute_result"
    }
   ],
   "source": [
    "data['Date '].head()"
   ]
  },
  {
   "cell_type": "code",
   "execution_count": 38,
   "id": "9ac0a79f",
   "metadata": {},
   "outputs": [
    {
     "data": {
      "text/plain": [
       "0    4:45 AM\n",
       "1    5:45 PM\n",
       "2    6:45 AM\n",
       "3    7:45 PM\n",
       "Name: Time, dtype: object"
      ]
     },
     "execution_count": 38,
     "metadata": {},
     "output_type": "execute_result"
    }
   ],
   "source": [
    "data['Time'].head()"
   ]
  },
  {
   "cell_type": "code",
   "execution_count": 39,
   "id": "03206e3f",
   "metadata": {},
   "outputs": [
    {
     "data": {
      "text/plain": [
       "0    2.0\n",
       "1    3.9\n",
       "2    4.1\n",
       "3    5.2\n",
       "Name: Speed, dtype: float64"
      ]
     },
     "execution_count": 39,
     "metadata": {},
     "output_type": "execute_result"
    }
   ],
   "source": [
    "data['Speed'].head()"
   ]
  },
  {
   "cell_type": "code",
   "execution_count": 40,
   "id": "ee97176e",
   "metadata": {},
   "outputs": [
    {
     "data": {
      "text/plain": [
       "0    5.00\n",
       "1    6.12\n",
       "2    7.21\n",
       "3    8.78\n",
       "Name: Distance, dtype: float64"
      ]
     },
     "execution_count": 40,
     "metadata": {},
     "output_type": "execute_result"
    }
   ],
   "source": [
    "data['Distance'].head()"
   ]
  },
  {
   "cell_type": "code",
   "execution_count": 41,
   "id": "5f04fbb8",
   "metadata": {},
   "outputs": [
    {
     "data": {
      "text/plain": [
       "0        GeeksforGeeks123\n",
       "1         ShashingtonDC54\n",
       "2    PolandforPoland12522\n",
       "3        GeeksforGeeks126\n",
       "Name: Description, dtype: object"
      ]
     },
     "execution_count": 41,
     "metadata": {},
     "output_type": "execute_result"
    }
   ],
   "source": [
    "data['Description'].head()"
   ]
  },
  {
   "cell_type": "code",
   "execution_count": 42,
   "id": "19134ab5",
   "metadata": {},
   "outputs": [
    {
     "name": "stdout",
     "output_type": "stream",
     "text": [
      "Input Date :  2020/11/23\n",
      "Output Date : 23.11.2020\n",
      "Input Date :  2020/11/24\n",
      "Output Date : 24.11.2020\n",
      "Input Date :  2020/11/25\n",
      "Output Date : 25.11.2020\n",
      "Input Date :  2020/11/26\n",
      "Output Date : 26.11.2020\n"
     ]
    }
   ],
   "source": [
    "\n",
    "import datetime\n",
    "\n",
    "for i in data['Date ']:\n",
    "    print(\"Input Date :  \" +i)\n",
    "    datetimeobj=datetime.datetime.strptime(i,\"%Y/%m/%d\")\n",
    "    newformat = datetimeobj.strftime('%d.%m.%Y')\n",
    "    date=str(newformat).split(\" \")[0]\n",
    "    print(\"Output Date : \"+ date)"
   ]
  },
  {
   "cell_type": "code",
   "execution_count": 43,
   "id": "97d45a51",
   "metadata": {},
   "outputs": [
    {
     "name": "stdout",
     "output_type": "stream",
     "text": [
      "04:45\n",
      "17:45\n",
      "06:45\n",
      "19:45\n"
     ]
    }
   ],
   "source": [
    "for time in data['Time']:\n",
    "    in_time = datetime.datetime.strptime(time, \"%I:%M %p\")\n",
    "    out_time = datetime.datetime.strftime(in_time, \"%H:%M\")\n",
    "    print(out_time)"
   ]
  },
  {
   "cell_type": "code",
   "execution_count": 44,
   "id": "39debc77",
   "metadata": {},
   "outputs": [],
   "source": [
    "def mps_to_mph(mps):\n",
    "    return 2.23694 * mps"
   ]
  },
  {
   "cell_type": "code",
   "execution_count": 45,
   "id": "3d5e55ab",
   "metadata": {},
   "outputs": [
    {
     "name": "stdout",
     "output_type": "stream",
     "text": [
      "4.47388\n",
      "8.724066\n",
      "9.171454\n",
      "11.632088000000001\n"
     ]
    }
   ],
   "source": [
    "for speed in data['Speed']:\n",
    "    speed=mps_to_mph(speed)\n",
    "    print(speed)"
   ]
  },
  {
   "cell_type": "code",
   "execution_count": 46,
   "id": "0588403a",
   "metadata": {},
   "outputs": [],
   "source": [
    "def kilometre_1(km):  \n",
    "    conversion_ratio_1= 0.621371  \n",
    "    return km * conversion_ratio_1  \n",
    "   \n",
    "  \n"
   ]
  },
  {
   "cell_type": "code",
   "execution_count": 53,
   "id": "729c0765",
   "metadata": {},
   "outputs": [
    {
     "name": "stdout",
     "output_type": "stream",
     "text": [
      "3.106855\n",
      "3.8027905200000003\n",
      "4.48008491\n",
      "5.45563738\n"
     ]
    }
   ],
   "source": [
    "for dis in data['Distance']:\n",
    "    distance=kilometre_1(dis)\n",
    "    print( distance)"
   ]
  },
  {
   "cell_type": "code",
   "execution_count": 48,
   "id": "075781da",
   "metadata": {},
   "outputs": [
    {
     "ename": "NameError",
     "evalue": "name 'row' is not defined",
     "output_type": "error",
     "traceback": [
      "\u001b[1;31m---------------------------------------------------------------------------\u001b[0m",
      "\u001b[1;31mNameError\u001b[0m                                 Traceback (most recent call last)",
      "\u001b[1;32m~\\AppData\\Local\\Temp/ipykernel_18452/1425645843.py\u001b[0m in \u001b[0;36m<module>\u001b[1;34m\u001b[0m\n\u001b[0;32m      7\u001b[0m \u001b[1;33m\u001b[0m\u001b[0m\n\u001b[0;32m      8\u001b[0m     \u001b[1;31m# write a row to the csv file\u001b[0m\u001b[1;33m\u001b[0m\u001b[1;33m\u001b[0m\u001b[0m\n\u001b[1;32m----> 9\u001b[1;33m     \u001b[0mwriter\u001b[0m\u001b[1;33m.\u001b[0m\u001b[0mwriterow\u001b[0m\u001b[1;33m(\u001b[0m\u001b[0mrow\u001b[0m\u001b[1;33m)\u001b[0m\u001b[1;33m\u001b[0m\u001b[1;33m\u001b[0m\u001b[0m\n\u001b[0m",
      "\u001b[1;31mNameError\u001b[0m: name 'row' is not defined"
     ]
    }
   ],
   "source": [
    "\n",
    "\n",
    "    # write a row to the csv file\n"
   ]
  },
  {
   "cell_type": "code",
   "execution_count": null,
   "id": "1d9251dc",
   "metadata": {},
   "outputs": [],
   "source": []
  },
  {
   "cell_type": "code",
   "execution_count": null,
   "id": "8690d788",
   "metadata": {},
   "outputs": [],
   "source": []
  },
  {
   "cell_type": "code",
   "execution_count": null,
   "id": "fec8b1fa",
   "metadata": {},
   "outputs": [],
   "source": []
  },
  {
   "cell_type": "code",
   "execution_count": null,
   "id": "e874c52e",
   "metadata": {},
   "outputs": [],
   "source": []
  },
  {
   "cell_type": "code",
   "execution_count": null,
   "id": "f6ca9c9a",
   "metadata": {},
   "outputs": [],
   "source": []
  }
 ],
 "metadata": {
  "kernelspec": {
   "display_name": "Python 3 (ipykernel)",
   "language": "python",
   "name": "python3"
  },
  "language_info": {
   "codemirror_mode": {
    "name": "ipython",
    "version": 3
   },
   "file_extension": ".py",
   "mimetype": "text/x-python",
   "name": "python",
   "nbconvert_exporter": "python",
   "pygments_lexer": "ipython3",
   "version": "3.9.7"
  }
 },
 "nbformat": 4,
 "nbformat_minor": 5
}
