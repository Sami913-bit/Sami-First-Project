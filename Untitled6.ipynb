{
 "cells": [
  {
   "cell_type": "markdown",
   "id": "e0b0ec74",
   "metadata": {},
   "source": [
    "### Session 7 (File Handling) & Numpy"
   ]
  },
  {
   "cell_type": "code",
   "execution_count": 1,
   "id": "69a7a829",
   "metadata": {},
   "outputs": [
    {
     "name": "stdout",
     "output_type": "stream",
     "text": [
      "This is the write commandIt allows us to write in a particular file\n"
     ]
    }
   ],
   "source": [
    "file = open('D://test.txt', 'r')\n",
    "# This will print every line one by one in the file\n",
    "for each in file:\n",
    "    print (each )"
   ]
  },
  {
   "cell_type": "code",
   "execution_count": 2,
   "id": "ca1918f9",
   "metadata": {},
   "outputs": [
    {
     "name": "stdout",
     "output_type": "stream",
     "text": [
      "This i\n"
     ]
    }
   ],
   "source": [
    "file = open('D://test.txt', 'r')\n",
    "print (file.read(6))"
   ]
  },
  {
   "cell_type": "code",
   "execution_count": 3,
   "id": "43bca026",
   "metadata": {},
   "outputs": [],
   "source": [
    "file = open('D://test.txt','a')\n",
    "file.write(\"  \")\n",
    "file.write(\"This is the write command\")\n",
    "file.write(\"It allows us to write in a particular file\")\n",
    "file.close()"
   ]
  },
  {
   "cell_type": "code",
   "execution_count": 4,
   "id": "dacc75d9",
   "metadata": {},
   "outputs": [
    {
     "name": "stdout",
     "output_type": "stream",
     "text": [
      "['This', 'is', 'the', 'write', 'commandIt', 'allows', 'us', 'to', 'write', 'in', 'a', 'particular', 'file', 'This', 'is', 'the', 'write', 'commandIt', 'allows', 'us', 'to', 'write', 'in', 'a', 'particular', 'file']\n"
     ]
    }
   ],
   "source": [
    "with open('D://test.txt', \"r\") as file:\n",
    "    data = file.readlines()\n",
    "    for line in data:\n",
    "        word = line.split()\n",
    "        print (word)"
   ]
  },
  {
   "cell_type": "markdown",
   "id": "18a8dc6e",
   "metadata": {},
   "source": [
    "### how to import numpy library"
   ]
  },
  {
   "cell_type": "code",
   "execution_count": 5,
   "id": "cf893a90",
   "metadata": {},
   "outputs": [],
   "source": [
    "import numpy as np"
   ]
  },
  {
   "cell_type": "code",
   "execution_count": 6,
   "id": "68e0244e",
   "metadata": {},
   "outputs": [],
   "source": [
    "arr = np.array(['ehtasham', 'sobi', 'sami' , 1 , 2])"
   ]
  },
  {
   "cell_type": "code",
   "execution_count": 8,
   "id": "7f9ab026",
   "metadata": {},
   "outputs": [
    {
     "name": "stdout",
     "output_type": "stream",
     "text": [
      "['ehtasham' 'sobi' 'sami' '1' '2']\n"
     ]
    }
   ],
   "source": [
    "print(arr)"
   ]
  },
  {
   "cell_type": "code",
   "execution_count": 13,
   "id": "b4752fed",
   "metadata": {},
   "outputs": [
    {
     "name": "stdout",
     "output_type": "stream",
     "text": [
      "2\n"
     ]
    }
   ],
   "source": [
    "print(arr[4]) "
   ]
  },
  {
   "cell_type": "code",
   "execution_count": 15,
   "id": "75dea275",
   "metadata": {},
   "outputs": [
    {
     "name": "stdout",
     "output_type": "stream",
     "text": [
      "ehtasham1\n"
     ]
    }
   ],
   "source": [
    "print(arr[0] + arr[3]) "
   ]
  },
  {
   "cell_type": "code",
   "execution_count": 16,
   "id": "d0da74d5",
   "metadata": {},
   "outputs": [],
   "source": [
    "arr = np.array([[1,2,3,4,5], [6,7,8,9,10]])"
   ]
  },
  {
   "cell_type": "code",
   "execution_count": 17,
   "id": "8ce7d916",
   "metadata": {},
   "outputs": [
    {
     "name": "stdout",
     "output_type": "stream",
     "text": [
      "[[ 1  2  3  4  5]\n",
      " [ 6  7  8  9 10]]\n"
     ]
    }
   ],
   "source": [
    "print(arr)"
   ]
  },
  {
   "cell_type": "code",
   "execution_count": 18,
   "id": "69d90847",
   "metadata": {},
   "outputs": [],
   "source": [
    "arr = np.array([[[1, 2, 3], [4, 5, 6]], [[7, 8, 9], [10, 11, 12]]])"
   ]
  },
  {
   "cell_type": "code",
   "execution_count": 19,
   "id": "7d4739ed",
   "metadata": {},
   "outputs": [
    {
     "name": "stdout",
     "output_type": "stream",
     "text": [
      "[[[ 1  2  3]\n",
      "  [ 4  5  6]]\n",
      "\n",
      " [[ 7  8  9]\n",
      "  [10 11 12]]]\n"
     ]
    }
   ],
   "source": [
    "print(arr)"
   ]
  },
  {
   "cell_type": "markdown",
   "id": "0a21b4f6",
   "metadata": {},
   "source": [
    "### note: Arays is always starting from 0 index"
   ]
  },
  {
   "cell_type": "code",
   "execution_count": 21,
   "id": "a6295c61",
   "metadata": {},
   "outputs": [
    {
     "name": "stdout",
     "output_type": "stream",
     "text": [
      "[1 2 3 4]\n"
     ]
    }
   ],
   "source": [
    "import numpy as np\n",
    "\n",
    "arr = np.array([1, 2, 3, 4, 5, 6, 7])\n",
    "\n",
    "print(arr[0:4]) "
   ]
  },
  {
   "cell_type": "code",
   "execution_count": 26,
   "id": "84da5275",
   "metadata": {},
   "outputs": [
    {
     "name": "stdout",
     "output_type": "stream",
     "text": [
      "[]\n"
     ]
    }
   ],
   "source": [
    "\n",
    "arr = np.array([1, 2, 3, 4, 5, 6, 7])\n",
    "\n",
    "print(arr[-3:-3]) "
   ]
  },
  {
   "cell_type": "code",
   "execution_count": 29,
   "id": "e0146bf2",
   "metadata": {},
   "outputs": [
    {
     "name": "stdout",
     "output_type": "stream",
     "text": [
      "[2]\n"
     ]
    }
   ],
   "source": [
    "arr = np.array([1, 2, 3, 4, 5])\n",
    "\n",
    "print(arr[1:2]) "
   ]
  },
  {
   "cell_type": "code",
   "execution_count": null,
   "id": "ce3bbb10",
   "metadata": {},
   "outputs": [],
   "source": []
  }
 ],
 "metadata": {
  "kernelspec": {
   "display_name": "Python 3 (ipykernel)",
   "language": "python",
   "name": "python3"
  },
  "language_info": {
   "codemirror_mode": {
    "name": "ipython",
    "version": 3
   },
   "file_extension": ".py",
   "mimetype": "text/x-python",
   "name": "python",
   "nbconvert_exporter": "python",
   "pygments_lexer": "ipython3",
   "version": "3.9.7"
  }
 },
 "nbformat": 4,
 "nbformat_minor": 5
}
